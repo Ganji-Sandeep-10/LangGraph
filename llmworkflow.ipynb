{
 "cells": [
  {
   "cell_type": "code",
   "execution_count": 2,
   "id": "75a4eb29",
   "metadata": {},
   "outputs": [],
   "source": [
    "from langgraph.graph import StateGraph,START,END\n",
    "from langchain_google_genai import ChatGoogleGenerativeAI\n",
    "from typing import TypedDict\n",
    "from dotenv import load_dotenv"
   ]
  },
  {
   "cell_type": "code",
   "execution_count": 3,
   "id": "725dcaad",
   "metadata": {},
   "outputs": [],
   "source": [
    "load_dotenv()\n",
    "\n",
    "llm=ChatGoogleGenerativeAI(model=\"gemini-2.0-flash\")"
   ]
  },
  {
   "cell_type": "code",
   "execution_count": 4,
   "id": "dd3be72e",
   "metadata": {},
   "outputs": [],
   "source": [
    "class llmState(TypedDict):\n",
    "    question:str\n",
    "    answer:str"
   ]
  },
  {
   "cell_type": "code",
   "execution_count": 5,
   "id": "90c56aed",
   "metadata": {},
   "outputs": [],
   "source": [
    "def llm_qa(state:llmState)->llmState:\n",
    "\n",
    "    question=state['question']\n",
    "    promt = f'Answer the following question {question}'\n",
    "    answer = llm.invoke(promt).content\n",
    "    state['answer'] = str(answer)\n",
    "\n",
    "    return state"
   ]
  },
  {
   "cell_type": "code",
   "execution_count": 6,
   "id": "5df57ea8",
   "metadata": {},
   "outputs": [],
   "source": [
    "graph=StateGraph(llmState)\n",
    "\n",
    "graph.add_node('llm_call',llm_qa)\n",
    "\n",
    "graph.add_edge(START,'llm_call')\n",
    "graph.add_edge('llm_call',END)\n",
    "\n",
    "workflow=graph.compile()\n",
    "\n"
   ]
  },
  {
   "cell_type": "code",
   "execution_count": 8,
   "id": "9f315d72",
   "metadata": {},
   "outputs": [
    {
     "name": "stdout",
     "output_type": "stream",
     "text": [
      "The average distance between the Earth and the Sun is about **149.6 million kilometers (93 million miles)**. This distance is also known as one astronomical unit (AU).\n"
     ]
    }
   ],
   "source": [
    "Initial_state = {'question': 'what is the distance between earth and sun?', 'answer': ''}\n",
    "final_state = workflow.invoke(Initial_state)['answer']\n",
    "print(final_state)"
   ]
  },
  {
   "cell_type": "code",
   "execution_count": null,
   "id": "69867070",
   "metadata": {},
   "outputs": [],
   "source": []
  }
 ],
 "metadata": {
  "kernelspec": {
   "display_name": "myenv (3.13.5)",
   "language": "python",
   "name": "python3"
  },
  "language_info": {
   "codemirror_mode": {
    "name": "ipython",
    "version": 3
   },
   "file_extension": ".py",
   "mimetype": "text/x-python",
   "name": "python",
   "nbconvert_exporter": "python",
   "pygments_lexer": "ipython3",
   "version": "3.13.5"
  }
 },
 "nbformat": 4,
 "nbformat_minor": 5
}

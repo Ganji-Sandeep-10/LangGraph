{
 "cells": [
  {
   "cell_type": "code",
   "execution_count": 1,
   "id": "de223091",
   "metadata": {},
   "outputs": [],
   "source": [
    "from langgraph.graph import StateGraph,START,END\n",
    "from typing import TypedDict"
   ]
  },
  {
   "cell_type": "code",
   "execution_count": null,
   "id": "357b5baa",
   "metadata": {},
   "outputs": [],
   "source": [
    "class BatsmanState(TypedDict):\n",
    "    runs:int\n",
    "    balls:int\n",
    "    four:int\n",
    "    six:int\n",
    "\n",
    "    sr:float\n",
    "    bpb:float\n",
    "    boundary_percentage:float\n",
    "    summary:str"
   ]
  },
  {
   "cell_type": "code",
   "execution_count": 3,
   "id": "81f4fffb",
   "metadata": {},
   "outputs": [],
   "source": [
    "def cal_sr(state:BatsmanState):\n",
    "    sr=(state['runs']/state['balls'])*100\n",
    "\n",
    "    return {'sr':sr}"
   ]
  },
  {
   "cell_type": "code",
   "execution_count": 4,
   "id": "7e4a2cd2",
   "metadata": {},
   "outputs": [],
   "source": [
    "def cal_bpb(state:BatsmanState):\n",
    "    bpb=state['balls']/(state['four']+state['six'])\n",
    "\n",
    "    return {'bpb':bpb}"
   ]
  },
  {
   "cell_type": "code",
   "execution_count": 5,
   "id": "0a3dc927",
   "metadata": {},
   "outputs": [],
   "source": [
    "def cal_boundary_percentage(state:BatsmanState):\n",
    "\n",
    "    boundary_percentage=(((state['four']*4)+(state['six']*6))/state['runs'])*100\n",
    "\n",
    "    return {'boundary_percentage':boundary_percentage}"
   ]
  },
  {
   "cell_type": "code",
   "execution_count": 6,
   "id": "98ee7ca3",
   "metadata": {},
   "outputs": [],
   "source": [
    "def gen_summary(state:BatsmanState):\n",
    "\n",
    "    sumarry =  f\"\"\"\n",
    "                Strike Rate - {state['sr']} \\n\n",
    "                Balls per boundary - {state['bpb']} \\n\n",
    "                Boundary percent - {state['boundary_percentage']}\n",
    "                \"\"\"\n",
    "    return {'summary':sumarry}"
   ]
  },
  {
   "cell_type": "code",
   "execution_count": 8,
   "id": "443553cc",
   "metadata": {},
   "outputs": [],
   "source": [
    "graph=StateGraph(BatsmanState)\n",
    "\n",
    "graph.add_node('cal_sr',cal_sr)\n",
    "graph.add_node('cal_bpb',cal_bpb)\n",
    "graph.add_node('cal_boundary_percentage',cal_boundary_percentage)\n",
    "graph.add_node('gen_summary',gen_summary)\n",
    "\n",
    "graph.add_edge(START,'cal_sr')\n",
    "graph.add_edge(START,'cal_bpb')\n",
    "graph.add_edge(START,'cal_boundary_percentage')\n",
    "graph.add_edge('cal_sr','gen_summary')\n",
    "graph.add_edge('cal_bpb','gen_summary')\n",
    "graph.add_edge('cal_boundary_percentage','gen_summary')\n",
    "graph.add_edge('gen_summary',END)\n",
    "\n",
    "workflow=graph.compile()\n",
    "\n"
   ]
  },
  {
   "cell_type": "code",
   "execution_count": null,
   "id": "28e3c9b9",
   "metadata": {},
   "outputs": [
    {
     "data": {
      "text/plain": [
       "{'runs': 100,\n",
       " 'balls': 50,\n",
       " 'four': 6,\n",
       " 'six': 4,\n",
       " 'sr': 200.0,\n",
       " 'bpb': 5.0,\n",
       " 'boundary_percentage': 48.0,\n",
       " 'summary': '\\n                Strike Rate - 200.0 \\n\\n                Balls per boundary - 5.0 \\n\\n                Boundary percent - 48.0\\n                '}"
      ]
     },
     "execution_count": 12,
     "metadata": {},
     "output_type": "execute_result"
    }
   ],
   "source": [
    "intial_state = {\n",
    "    'runs': 100,\n",
    "    'balls': 50,\n",
    "    'four': 6,\n",
    "    'six': 4\n",
    "}\n",
    "\n",
    "(workflow.invoke(intial_state))"
   ]
  },
  {
   "cell_type": "code",
   "execution_count": null,
   "id": "6af6674a",
   "metadata": {},
   "outputs": [],
   "source": []
  }
 ],
 "metadata": {
  "kernelspec": {
   "display_name": "myenv (3.13.5)",
   "language": "python",
   "name": "python3"
  },
  "language_info": {
   "codemirror_mode": {
    "name": "ipython",
    "version": 3
   },
   "file_extension": ".py",
   "mimetype": "text/x-python",
   "name": "python",
   "nbconvert_exporter": "python",
   "pygments_lexer": "ipython3",
   "version": "3.13.5"
  }
 },
 "nbformat": 4,
 "nbformat_minor": 5
}

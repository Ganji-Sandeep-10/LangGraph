{
 "cells": [
  {
   "cell_type": "code",
   "execution_count": 33,
   "id": "a8b57a32",
   "metadata": {},
   "outputs": [],
   "source": [
    "from langgraph.graph import StateGraph,START,END\n",
    "from typing import TypedDict"
   ]
  },
  {
   "cell_type": "code",
   "execution_count": 34,
   "id": "1952c3e2",
   "metadata": {},
   "outputs": [],
   "source": [
    "#Define state\n",
    "class BMIState (TypedDict):\n",
    "\n",
    "    weight_kg:float\n",
    "    height_m:float\n",
    "    bmi:float\n",
    "    category:str"
   ]
  },
  {
   "cell_type": "code",
   "execution_count": 35,
   "id": "da5f2801",
   "metadata": {},
   "outputs": [],
   "source": [
    "def calculate_bmi(state:BMIState)-> BMIState:\n",
    "\n",
    "    weight=state['weight_kg']\n",
    "    height=state['height_m']\n",
    "\n",
    "    bmi=weight/(height**2)\n",
    "\n",
    "    state['bmi']=round(bmi,2)\n",
    "\n",
    "    return state"
   ]
  },
  {
   "cell_type": "code",
   "execution_count": 36,
   "id": "c4393cd0",
   "metadata": {},
   "outputs": [],
   "source": [
    "def labelBMI(state :BMIState)->BMIState:\n",
    "\n",
    "    bmi=state['bmi']\n",
    "    if(bmi<18.5):\n",
    "        state['category']='Underweight'\n",
    "    elif 18.5<=bmi<25:\n",
    "        state['category']='Normal'\n",
    "    elif 25<=bmi<30:\n",
    "        state['category']='Overweight'\n",
    "    else:\n",
    "        state['category']='Obese'\n",
    "    \n",
    "    return state"
   ]
  },
  {
   "cell_type": "code",
   "execution_count": 37,
   "id": "f1127399",
   "metadata": {},
   "outputs": [],
   "source": [
    "#Define graph\n",
    "graph = StateGraph(BMIState)\n",
    "\n",
    "#Add node to Graph\n",
    "graph.add_node('calculate_bmi',calculate_bmi)\n",
    "graph.add_node('classify',labelBMI)\n",
    "\n",
    "#Add edges to Graph\n",
    "graph.add_edge(START,'calculate_bmi')\n",
    "graph.add_edge('calculate_bmi','classify')\n",
    "graph.add_edge('classify',END)\n",
    "\n",
    "#Compile Graph\n",
    "workflow=graph.compile()\n",
    "\n",
    "#Exicute graph"
   ]
  },
  {
   "cell_type": "code",
   "execution_count": null,
   "id": "01aa0aae",
   "metadata": {},
   "outputs": [
    {
     "name": "stdout",
     "output_type": "stream",
     "text": [
      "{'weight_kg': 70, 'height_m': 1.73, 'bmi': 23.39, 'category': 'Normal'}\n"
     ]
    }
   ],
   "source": [
    "#Execute graph\n",
    "intial_state={'weight_kg':70,'height_m':1.73}\n",
    "final_state=workflow.invoke(intial_state)\n",
    "print(final_state)"
   ]
  },
  {
   "cell_type": "code",
   "execution_count": null,
   "id": "29edd528",
   "metadata": {},
   "outputs": [],
   "source": []
  }
 ],
 "metadata": {
  "kernelspec": {
   "display_name": "myenv (3.13.5)",
   "language": "python",
   "name": "python3"
  },
  "language_info": {
   "codemirror_mode": {
    "name": "ipython",
    "version": 3
   },
   "file_extension": ".py",
   "mimetype": "text/x-python",
   "name": "python",
   "nbconvert_exporter": "python",
   "pygments_lexer": "ipython3",
   "version": "3.13.5"
  }
 },
 "nbformat": 4,
 "nbformat_minor": 5
}
